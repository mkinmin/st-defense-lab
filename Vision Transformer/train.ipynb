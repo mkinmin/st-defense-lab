{
 "cells": [
  {
   "cell_type": "code",
   "execution_count": 1,
   "metadata": {},
   "outputs": [],
   "source": [
    "import torch\n",
    "import torch.nn.functional as F\n",
    "import matplotlib.pyplot as plt\n",
    "\n",
    "from torch import nn\n",
    "from torch import Tensor\n",
    "from torchvision.transforms import Compose, Resize, ToTensor\n",
    "from einops import rearrange, reduce, repeat\n",
    "from einops.layers.torch import Rearrange, Reduce\n",
    "from torchsummary import summary"
   ]
  },
  {
   "cell_type": "markdown",
   "metadata": {},
   "source": [
    "## Patches embedding\n",
    "##### 1. Conv layer를 활용하여 패치 나누기 \n",
    "(논문의 Hybrid Architecture로 언급)\n",
    "##### 2. Trainable linear projection을 통해 x의 각 패치를 flatten한 벡터를 D차원으로 변환한 후, 이를 패치 임베딩으로 사용\n",
    "\n",
    "##### 3. Learnable 임베딩과 패치 임베딩에 learnable position 임베딩을 더함"
   ]
  },
  {
   "cell_type": "code",
   "execution_count": 2,
   "metadata": {},
   "outputs": [],
   "source": [
    "class PatchEmbedding(nn.Module):\n",
    "    def __init__(self, input_channels, patch_size,                                                  # input_channels : channel\n",
    "                 embedding_size, img_size):\n",
    "        self.patch_size = patch_size\n",
    "        super().__init__()\n",
    "        self.partition = nn.Sequential(                                                             # Conv layer를 활용하여 patch 나누기 (Hybrid Architecture)\n",
    "                nn.Conv2d(input_channels, embedding_size,\n",
    "              kernel_size=patch_size, stride=patch_size),                                           # torch.Size([1, 768, 14, 14])\n",
    "                 Rearrange('b e (h) (w) -> b (h w) e')                                              # tenser의 차원을 변환 b: batch_size, e: embeding_size, h: height, w: width\n",
    "        )                                                                                           # (h w)를 통해 height와 width를 결합하여 총 패치 수로 변환 (패치 한줄서기)\n",
    "        self.cls_token = nn.Parameter(torch.randn(1,1, embedding_size))\n",
    "        self.positions = nn.Parameter(torch.randn((img_size // patch_size) **2 + 1, embedding_size))\n",
    "    \n",
    "    def forward(self, x):\n",
    "        b, _, _, _ = x.shape                                                                        # x.shape에서 batch_size만 필요하여 b 변수에 batch_size만 저장\n",
    "        x = self.partition(x)                                                                       # flatten 과정\n",
    "        cls_token = repeat(self.cls_token, '() n e -> b n e', b=b )                                 # cls_token을 배치 크기에 맞춰 복제\n",
    "                                                                                                    # (배치 크기, cls_token 개수, 임베딩 크기)\n",
    "        x = torch.cat([cls_token, x], dim=1)                                                        # ([1, 196 + 1, 768])  dim=1로 설정해서 cls_token을 패치 앞에 추가\n",
    "        x += self.positions                                                                         # position embedding 더하기\n",
    "\n",
    "        return x"
   ]
  },
  {
   "cell_type": "markdown",
   "metadata": {},
   "source": [
    "## Transformer encoder\n",
    "##### 4. 임베딩을 Transformer encode에 input으로 넣어 마지막 layer에서 class embedding에 대한 output인 image representation을 도출\n",
    "\n",
    "#### 1. Multi-Head Attention\n",
    "패치에 대해 self-attention 메커니즘 적용"
   ]
  },
  {
   "cell_type": "code",
   "execution_count": 3,
   "metadata": {},
   "outputs": [],
   "source": [
    "class MultiHeadAttention(nn.Module):\n",
    "    def __init__(self, \n",
    "                 embedding_size,\n",
    "                 num_heads,\n",
    "                 dropout):\n",
    "        super().__init__()\n",
    "        self.embedding_size = embedding_size\n",
    "        self.num_heads = num_heads\n",
    "        # fuse the queries, keys and values in one matrix\n",
    "        self.qkv = nn.Linear(embedding_size, embedding_size * 3)                                # query, key, value를 계산하기 위한 선형 변환\n",
    "        self.att_drop = nn.Dropout(dropout)\n",
    "        self.projection = nn.Linear(embedding_size, embedding_size)\n",
    "\n",
    "    def forward(self, x, mask):\n",
    "        # split keys, queries and values in num_heads\n",
    "        qkv = rearrange(self.qkv(x), \"b n (h d qkv) -> (qkv) b h n d\", h=self.num_heads, qkv=3) # batch_size(b), num_head(h), n(시퀀스 길이), head_dim(d) = emb_size/head(각 head의 차원)\n",
    "                                                                                                # rearrange에서 \"b n (h d)\" 여기서 h d는 embedding_size를 두 개의 차원인 h와 d로 나누라는 의미\n",
    "                                                                                                # embedding_size = h * d가 되므로, rearrange는 자동으로 embedding/num_heads를 d로 정의\n",
    "        queries, keys, values = qkv[0], qkv[1], qkv[2]\n",
    "        # sum up over the last axis\n",
    "        score = torch.einsum('bhqd, bhkd -> bhqk', queries, keys)                               # Queries * Keys(transpose) 내적 => 'bhqd, bhkd -> bhqk' queries와 key 간의 내적을 계산하는 부분\n",
    "                                                                                                # b: batch_size, h: num_head, q: query_len(query의 시퀀스 길이), d: head_dim(각 헤드에서의 차원) => 'bhqd'\n",
    "                                                                                                # b: batch_size, h: num_head, q: key_len(key의 시퀀스 길이), d: head_dim(각 헤드에서의 차원)     => 'bhkd'\n",
    "                                                                                                # 'qd' * 'kd' 내적 -> 'bhqk'가 됨\n",
    "        \n",
    "        scaling = self.embedding_size ** (1/2)                                                  # scaling factor\n",
    "        attention = F.softmax(score / scaling, dim=-1)                                          # attention 최종 계산\n",
    "        attention = self.att_drop(attention)                                                    # Dropout\n",
    "        \n",
    "        output = torch.einsum('bhal, bhlv -> bhav', attention, values)                          # attention * values 내적 => (batch_size, num_heads, query_len, head_dim)\n",
    "        output = rearrange(output, \"b h n d -> b n (h d)\")                                      # (batch_size, query_len, embedding_size)\n",
    "        output = self.projection(output)                                                        # 선형 변환하여 최종적으로 원래 embedding_size로 변환\n",
    "                                                                                                # MHA의 결과들을 다시 하나의 임베딩 벡터로 변환\n",
    "\n",
    "        return output"
   ]
  },
  {
   "cell_type": "markdown",
   "metadata": {},
   "source": [
    "### 2. Transformer Encoder Block\n",
    "MLP(Feed Forward) 블럭을 만들어주도 Multi Head Attention을 하나로 묶음"
   ]
  },
  {
   "cell_type": "code",
   "execution_count": 4,
   "metadata": {},
   "outputs": [],
   "source": [
    "class ResidualAdd(nn.Module):       # residual part\n",
    "    def __init__(self, fn):\n",
    "        super().__init__()\n",
    "        self.fn = fn\n",
    "    \n",
    "    def forward(self, x, **kwargs):\n",
    "        res = x                     # 기존 x를 res 변수에 저장\n",
    "        x = self.fn(x, **kwargs)\n",
    "        x += res                    # MHA or MLP에서 나온 결과 x와 기존 x를 merge\n",
    "        return x\n",
    "\n",
    "class FeedForwardBlock(nn.Sequential):  #MLP Block -> 어텐션으로 추출된 정보를 더 깊게 처리\n",
    "    def __init__(self, embedding_size, expansion, drop_p):\n",
    "        super().__init__(\n",
    "            nn.Linear(embedding_size, expansion * embedding_size),\n",
    "            nn.GELU(),\n",
    "            nn.Dropout(drop_p),\n",
    "            nn.Linear(expansion * embedding_size, embedding_size)\n",
    "        )\n",
    "\n",
    "class TransformerEncoderBlock(nn.Sequential):   # TransformerEncoder의 전체적인 구조 \n",
    "    def __init__(self, embedding_size,\n",
    "                 drop_p,\n",
    "                 forward_expansion,\n",
    "                 forward_drop_p,\n",
    "                 **kwargs):\n",
    "        super().__init__(\n",
    "            ResidualAdd(nn.Sequential(\n",
    "                nn.LayerNorm(embedding_size),\n",
    "                MultiHeadAttention(embedding_size, **kwargs),\n",
    "                nn.Dropout(drop_p)\n",
    "            )),\n",
    "            ResidualAdd(nn.Sequential(\n",
    "                nn.LayerNorm(embedding_size),\n",
    "                FeedForwardBlock(embedding_size, expansion=forward_expansion, drop_p=forward_drop_p),\n",
    "                nn.Dropout(drop_p)\n",
    "            ))\n",
    "        )\n"
   ]
  },
  {
   "cell_type": "markdown",
   "metadata": {},
   "source": [
    "## Classification Head\n",
    "##### 5. classification을 위한 MLP Head 부분"
   ]
  },
  {
   "cell_type": "code",
   "execution_count": 5,
   "metadata": {},
   "outputs": [],
   "source": [
    "class TransformerEncoder(nn.Sequential):    # Transformer를 얼마나 쌓아 올린 것인지\n",
    "    def __init__(self, depth, **kwargs):\n",
    "        super().__init__(*[TransformerEncoderBlock(**kwargs) for _ in range(depth)])    # depth에 따라 TransformerEncoderBlock을 여러 개 쌓아올림\n",
    "\n",
    "class ClassificationHead(nn.Sequential):                # Transformer 모델의 출력을 받아 classification task 진행\n",
    "    def __init__(self, embedding_size,\n",
    "                 n_classes):\n",
    "        super().__init__(\n",
    "            Reduce('b n e -> b e', reduction='mean'),   # 모든 패치의 임베딩을 평균 내어 하나의 임베딩 벡터로 축소\n",
    "            nn.LayerNorm(embedding_size),\n",
    "            nn.Linear(embedding_size, n_classes)\n",
    "        )\n",
    "\n",
    "class ViT(nn.Sequential):                               # 각 모듈을 순차적으로 수행\n",
    "    def __init__(self,\n",
    "                 input_channels,\n",
    "                 patch_size,\n",
    "                 embedding_size,\n",
    "                 img_size,\n",
    "                 depth,\n",
    "                 n_classes, \n",
    "                 num_heads,\n",
    "                 dropout,\n",
    "                 **kwargs):\n",
    "        super().__init__(\n",
    "            PatchEmbedding(input_channels, patch_size, embedding_size, img_size),\n",
    "            TransformerEncoder(depth, embedding_size=embedding_size, num_heads=num_heads, dropout=dropout, **kwargs),\n",
    "            ClassificationHead(embedding_size, n_classes)\n",
    "        )"
   ]
  },
  {
   "cell_type": "code",
   "execution_count": 6,
   "metadata": {},
   "outputs": [
    {
     "name": "stdout",
     "output_type": "stream",
     "text": [
      "Files already downloaded and verified\n",
      "Files already downloaded and verified\n"
     ]
    },
    {
     "name": "stderr",
     "output_type": "stream",
     "text": [
      "100%|██████████| 625/625 [04:26<00:00,  2.35it/s]\n"
     ]
    },
    {
     "name": "stdout",
     "output_type": "stream",
     "text": [
      "Epoch [1/50] - Train Loss: 3.9902, Train Acc: 0.0853, Val Loss: 3.6062, Val Acc: 0.1362\n",
      "Validation loss decreased (inf --> 3.606250).  Saving model ...\n"
     ]
    },
    {
     "name": "stderr",
     "output_type": "stream",
     "text": [
      "100%|██████████| 625/625 [04:31<00:00,  2.30it/s]\n"
     ]
    },
    {
     "name": "stdout",
     "output_type": "stream",
     "text": [
      "Epoch [2/50] - Train Loss: 3.3309, Train Acc: 0.1855, Val Loss: 3.1742, Val Acc: 0.2068\n",
      "Validation loss decreased (3.606250 --> 3.174219).  Saving model ...\n"
     ]
    },
    {
     "name": "stderr",
     "output_type": "stream",
     "text": [
      "100%|██████████| 625/625 [04:30<00:00,  2.31it/s]\n"
     ]
    },
    {
     "name": "stdout",
     "output_type": "stream",
     "text": [
      "Epoch [3/50] - Train Loss: 2.9675, Train Acc: 0.2554, Val Loss: 2.9235, Val Acc: 0.2687\n",
      "Validation loss decreased (3.174219 --> 2.923504).  Saving model ...\n"
     ]
    },
    {
     "name": "stderr",
     "output_type": "stream",
     "text": [
      "100%|██████████| 625/625 [04:31<00:00,  2.30it/s]\n"
     ]
    },
    {
     "name": "stdout",
     "output_type": "stream",
     "text": [
      "Epoch [4/50] - Train Loss: 2.6779, Train Acc: 0.3160, Val Loss: 2.7715, Val Acc: 0.2933\n",
      "Validation loss decreased (2.923504 --> 2.771541).  Saving model ...\n"
     ]
    },
    {
     "name": "stderr",
     "output_type": "stream",
     "text": [
      "100%|██████████| 625/625 [04:31<00:00,  2.30it/s]\n"
     ]
    },
    {
     "name": "stdout",
     "output_type": "stream",
     "text": [
      "Epoch [5/50] - Train Loss: 2.4152, Train Acc: 0.3699, Val Loss: 2.6513, Val Acc: 0.3241\n",
      "Validation loss decreased (2.771541 --> 2.651350).  Saving model ...\n"
     ]
    },
    {
     "name": "stderr",
     "output_type": "stream",
     "text": [
      "100%|██████████| 625/625 [04:31<00:00,  2.31it/s]\n"
     ]
    },
    {
     "name": "stdout",
     "output_type": "stream",
     "text": [
      "Epoch [6/50] - Train Loss: 2.1537, Train Acc: 0.4249, Val Loss: 2.5640, Val Acc: 0.3501\n",
      "Validation loss decreased (2.651350 --> 2.564023).  Saving model ...\n"
     ]
    },
    {
     "name": "stderr",
     "output_type": "stream",
     "text": [
      "100%|██████████| 625/625 [04:31<00:00,  2.30it/s]\n"
     ]
    },
    {
     "name": "stdout",
     "output_type": "stream",
     "text": [
      "Epoch [7/50] - Train Loss: 1.8871, Train Acc: 0.4857, Val Loss: 2.5198, Val Acc: 0.3644\n",
      "Validation loss decreased (2.564023 --> 2.519765).  Saving model ...\n"
     ]
    },
    {
     "name": "stderr",
     "output_type": "stream",
     "text": [
      "100%|██████████| 625/625 [04:31<00:00,  2.30it/s]\n"
     ]
    },
    {
     "name": "stdout",
     "output_type": "stream",
     "text": [
      "Epoch [8/50] - Train Loss: 1.6027, Train Acc: 0.5563, Val Loss: 2.4877, Val Acc: 0.3785\n",
      "Validation loss decreased (2.519765 --> 2.487733).  Saving model ...\n"
     ]
    },
    {
     "name": "stderr",
     "output_type": "stream",
     "text": [
      "100%|██████████| 625/625 [04:31<00:00,  2.30it/s]\n"
     ]
    },
    {
     "name": "stdout",
     "output_type": "stream",
     "text": [
      "Epoch [9/50] - Train Loss: 1.2720, Train Acc: 0.6419, Val Loss: 2.5741, Val Acc: 0.3797\n",
      "EarlyStopping counter: 1 out of 5\n"
     ]
    },
    {
     "name": "stderr",
     "output_type": "stream",
     "text": [
      "100%|██████████| 625/625 [04:31<00:00,  2.30it/s]\n"
     ]
    },
    {
     "name": "stdout",
     "output_type": "stream",
     "text": [
      "Epoch [10/50] - Train Loss: 0.9298, Train Acc: 0.7343, Val Loss: 2.6998, Val Acc: 0.3762\n",
      "EarlyStopping counter: 2 out of 5\n"
     ]
    },
    {
     "name": "stderr",
     "output_type": "stream",
     "text": [
      "100%|██████████| 625/625 [04:31<00:00,  2.30it/s]\n"
     ]
    },
    {
     "name": "stdout",
     "output_type": "stream",
     "text": [
      "Epoch [11/50] - Train Loss: 0.3634, Train Acc: 0.9202, Val Loss: 2.5189, Val Acc: 0.4184\n",
      "EarlyStopping counter: 3 out of 5\n"
     ]
    },
    {
     "name": "stderr",
     "output_type": "stream",
     "text": [
      "100%|██████████| 625/625 [04:31<00:00,  2.30it/s]\n"
     ]
    },
    {
     "name": "stdout",
     "output_type": "stream",
     "text": [
      "Epoch [12/50] - Train Loss: 0.2239, Train Acc: 0.9643, Val Loss: 2.5622, Val Acc: 0.4184\n",
      "EarlyStopping counter: 4 out of 5\n"
     ]
    },
    {
     "name": "stderr",
     "output_type": "stream",
     "text": [
      "100%|██████████| 625/625 [04:31<00:00,  2.30it/s]\n"
     ]
    },
    {
     "name": "stdout",
     "output_type": "stream",
     "text": [
      "Epoch [13/50] - Train Loss: 0.1628, Train Acc: 0.9792, Val Loss: 2.6018, Val Acc: 0.4176\n",
      "EarlyStopping counter: 5 out of 5\n",
      "Early stopping\n"
     ]
    },
    {
     "data": {
      "image/png": "[encoded data removed]",
      "text/plain": [
       "<Figure size 1200x500 with 2 Axes>"
      ]
     },
     "metadata": {},
     "output_type": "display_data"
    },
    {
     "name": "stderr",
     "output_type": "stream",
     "text": [
      "C:\\Users\\user\\AppData\\Local\\Temp\\ipykernel_18744\\3226603696.py:188: FutureWarning: You are using `torch.load` with `weights_only=False` (the current default value), which uses the default pickle module implicitly. It is possible to construct malicious pickle data which will execute arbitrary code during unpickling (See https://github.com/pytorch/pytorch/blob/main/SECURITY.md#untrusted-models for more details). In a future release, the default value for `weights_only` will be flipped to `True`. This limits the functions that could be executed during unpickling. Arbitrary objects will no longer be allowed to be loaded via this mode unless they are explicitly allowlisted by the user via `torch.serialization.add_safe_globals`. We recommend you start setting `weights_only=True` for any use case where you don't have full control of the loaded file. Please open an issue on GitHub for any issues related to this experimental feature.\n",
      "  model.load_state_dict(torch.load(f'{CHECKPOINT_DIR}/best_model_epoch_{epoch+1}.pth'))\n"
     ]
    },
    {
     "ename": "FileNotFoundError",
     "evalue": "[Errno 2] No such file or directory: './checkpoints//best_model_epoch_13.pth'",
     "output_type": "error",
     "traceback": [
      "\u001b[1;31m---------------------------------------------------------------------------\u001b[0m",
      "\u001b[1;31mFileNotFoundError\u001b[0m                         Traceback (most recent call last)",
      "Cell \u001b[1;32mIn[14], line 188\u001b[0m\n\u001b[0;32m    185\u001b[0m plt\u001b[38;5;241m.\u001b[39mshow()\n\u001b[0;32m    187\u001b[0m \u001b[38;5;66;03m# Load the best model (Early Stopping으로 저장된 모델)\u001b[39;00m\n\u001b[1;32m--> 188\u001b[0m model\u001b[38;5;241m.\u001b[39mload_state_dict(\u001b[43mtorch\u001b[49m\u001b[38;5;241;43m.\u001b[39;49m\u001b[43mload\u001b[49m\u001b[43m(\u001b[49m\u001b[38;5;124;43mf\u001b[39;49m\u001b[38;5;124;43m'\u001b[39;49m\u001b[38;5;132;43;01m{\u001b[39;49;00m\u001b[43mCHECKPOINT_DIR\u001b[49m\u001b[38;5;132;43;01m}\u001b[39;49;00m\u001b[38;5;124;43m/best_model_epoch_\u001b[39;49m\u001b[38;5;132;43;01m{\u001b[39;49;00m\u001b[43mepoch\u001b[49m\u001b[38;5;241;43m+\u001b[39;49m\u001b[38;5;241;43m1\u001b[39;49m\u001b[38;5;132;43;01m}\u001b[39;49;00m\u001b[38;5;124;43m.pth\u001b[39;49m\u001b[38;5;124;43m'\u001b[39;49m\u001b[43m)\u001b[49m)\n\u001b[0;32m    190\u001b[0m \u001b[38;5;66;03m# Test the model on test dataset\u001b[39;00m\n\u001b[0;32m    191\u001b[0m model\u001b[38;5;241m.\u001b[39meval()\n",
      "File \u001b[1;32mc:\\Users\\user\\anaconda3\\envs\\vit_env\\lib\\site-packages\\torch\\serialization.py:1065\u001b[0m, in \u001b[0;36mload\u001b[1;34m(f, map_location, pickle_module, weights_only, mmap, **pickle_load_args)\u001b[0m\n\u001b[0;32m   1062\u001b[0m \u001b[38;5;28;01mif\u001b[39;00m \u001b[38;5;124m'\u001b[39m\u001b[38;5;124mencoding\u001b[39m\u001b[38;5;124m'\u001b[39m \u001b[38;5;129;01mnot\u001b[39;00m \u001b[38;5;129;01min\u001b[39;00m pickle_load_args\u001b[38;5;241m.\u001b[39mkeys():\n\u001b[0;32m   1063\u001b[0m     pickle_load_args[\u001b[38;5;124m'\u001b[39m\u001b[38;5;124mencoding\u001b[39m\u001b[38;5;124m'\u001b[39m] \u001b[38;5;241m=\u001b[39m \u001b[38;5;124m'\u001b[39m\u001b[38;5;124mutf-8\u001b[39m\u001b[38;5;124m'\u001b[39m\n\u001b[1;32m-> 1065\u001b[0m \u001b[38;5;28;01mwith\u001b[39;00m \u001b[43m_open_file_like\u001b[49m\u001b[43m(\u001b[49m\u001b[43mf\u001b[49m\u001b[43m,\u001b[49m\u001b[43m \u001b[49m\u001b[38;5;124;43m'\u001b[39;49m\u001b[38;5;124;43mrb\u001b[39;49m\u001b[38;5;124;43m'\u001b[39;49m\u001b[43m)\u001b[49m \u001b[38;5;28;01mas\u001b[39;00m opened_file:\n\u001b[0;32m   1066\u001b[0m     \u001b[38;5;28;01mif\u001b[39;00m _is_zipfile(opened_file):\n\u001b[0;32m   1067\u001b[0m         \u001b[38;5;66;03m# The zipfile reader is going to advance the current file position.\u001b[39;00m\n\u001b[0;32m   1068\u001b[0m         \u001b[38;5;66;03m# If we want to actually tail call to torch.jit.load, we need to\u001b[39;00m\n\u001b[0;32m   1069\u001b[0m         \u001b[38;5;66;03m# reset back to the original position.\u001b[39;00m\n\u001b[0;32m   1070\u001b[0m         orig_position \u001b[38;5;241m=\u001b[39m opened_file\u001b[38;5;241m.\u001b[39mtell()\n",
      "File \u001b[1;32mc:\\Users\\user\\anaconda3\\envs\\vit_env\\lib\\site-packages\\torch\\serialization.py:468\u001b[0m, in \u001b[0;36m_open_file_like\u001b[1;34m(name_or_buffer, mode)\u001b[0m\n\u001b[0;32m    466\u001b[0m \u001b[38;5;28;01mdef\u001b[39;00m \u001b[38;5;21m_open_file_like\u001b[39m(name_or_buffer, mode):\n\u001b[0;32m    467\u001b[0m     \u001b[38;5;28;01mif\u001b[39;00m _is_path(name_or_buffer):\n\u001b[1;32m--> 468\u001b[0m         \u001b[38;5;28;01mreturn\u001b[39;00m \u001b[43m_open_file\u001b[49m\u001b[43m(\u001b[49m\u001b[43mname_or_buffer\u001b[49m\u001b[43m,\u001b[49m\u001b[43m \u001b[49m\u001b[43mmode\u001b[49m\u001b[43m)\u001b[49m\n\u001b[0;32m    469\u001b[0m     \u001b[38;5;28;01melse\u001b[39;00m:\n\u001b[0;32m    470\u001b[0m         \u001b[38;5;28;01mif\u001b[39;00m \u001b[38;5;124m'\u001b[39m\u001b[38;5;124mw\u001b[39m\u001b[38;5;124m'\u001b[39m \u001b[38;5;129;01min\u001b[39;00m mode:\n",
      "File \u001b[1;32mc:\\Users\\user\\anaconda3\\envs\\vit_env\\lib\\site-packages\\torch\\serialization.py:449\u001b[0m, in \u001b[0;36m_open_file.__init__\u001b[1;34m(self, name, mode)\u001b[0m\n\u001b[0;32m    448\u001b[0m \u001b[38;5;28;01mdef\u001b[39;00m \u001b[38;5;21m__init__\u001b[39m(\u001b[38;5;28mself\u001b[39m, name, mode):\n\u001b[1;32m--> 449\u001b[0m     \u001b[38;5;28msuper\u001b[39m()\u001b[38;5;241m.\u001b[39m\u001b[38;5;21m__init__\u001b[39m(\u001b[38;5;28;43mopen\u001b[39;49m\u001b[43m(\u001b[49m\u001b[43mname\u001b[49m\u001b[43m,\u001b[49m\u001b[43m \u001b[49m\u001b[43mmode\u001b[49m\u001b[43m)\u001b[49m)\n",
      "\u001b[1;31mFileNotFoundError\u001b[0m: [Errno 2] No such file or directory: './checkpoints//best_model_epoch_13.pth'"
     ]
    }
   ],
   "source": [
    "import torch\n",
    "from torch.utils.data import DataLoader, random_split\n",
    "from torchvision.datasets import CIFAR10\n",
    "from torchvision.transforms import Compose, Resize, ToTensor, Normalize\n",
    "import torch.optim as optim\n",
    "from tqdm import tqdm\n",
    "import os\n",
    "\n",
    "# Training settings\n",
    "BATCH_SIZE = 64\n",
    "EPOCHS = 20\n",
    "LR = 1e-4\n",
    "CHECKPOINT_DIR = './checkpoints/'\n",
    "DEVICE = 'cuda' if torch.cuda.is_available() else 'cpu'\n",
    "\n",
    "# CIFAR-10 dataset loading with transforms\n",
    "transform = Compose([\n",
    "    Resize((224, 224)),  # ViT expects 224x224 images\n",
    "    ToTensor(),\n",
    "    Normalize(mean=[0.4914, 0.4822, 0.4465], std=[0.247, 0.243, 0.261])  # CIFAR-10 normalization\n",
    "])\n",
    "\n",
    "# Load CIFAR-10 dataset\n",
    "train_dataset = CIFAR10(root='./data', train=True, transform=transform, download=True)\n",
    "test_dataset = CIFAR10(root='./data', train=False, transform=transform, download=True)\n",
    "\n",
    "# Split train into train/validation\n",
    "train_size = int(0.8 * len(train_dataset))\n",
    "val_size = len(train_dataset) - train_size\n",
    "train_dataset, val_dataset = random_split(train_dataset, [train_size, val_size])\n",
    "\n",
    "# DataLoader for train, validation, and test sets\n",
    "train_loader = DataLoader(train_dataset, batch_size=BATCH_SIZE, shuffle=True)\n",
    "val_loader = DataLoader(val_dataset, batch_size=BATCH_SIZE, shuffle=False)\n",
    "test_loader = DataLoader(test_dataset, batch_size=BATCH_SIZE, shuffle=False)\n",
    "\n",
    "# Initialize model\n",
    "model = ViT(input_channels=3, patch_size=16, embedding_size=768, img_size=224, depth=12, n_classes=10).to(DEVICE)\n",
    "\n",
    "# Loss function and optimizer\n",
    "criterion = nn.CrossEntropyLoss()\n",
    "optimizer = optim.AdamW(model.parameters(), lr=LR)\n",
    "scheduler = optim.lr_scheduler.StepLR(optimizer, step_size=10, gamma=0.1)\n",
    "\n",
    "# Function to save model checkpoint\n",
    "def save_checkpoint(epoch, model, optimizer, path):\n",
    "    state = {\n",
    "        'epoch': epoch,\n",
    "        'model_state_dict': model.state_dict(),\n",
    "        'optimizer_state_dict': optimizer.state_dict(),\n",
    "    }\n",
    "    if not os.path.exists(CHECKPOINT_DIR):\n",
    "        os.makedirs(CHECKPOINT_DIR)\n",
    "    torch.save(state, path)\n",
    "\n",
    "# Training and validation loop\n",
    "train_losses, val_losses = [], []\n",
    "train_accs, val_accs = [], []\n",
    "\n",
    "for epoch in range(EPOCHS):\n",
    "    model.train()\n",
    "    running_loss = 0.0\n",
    "    correct, total = 0, 0\n",
    "    for imgs, labels in tqdm(train_loader):\n",
    "        imgs, labels = imgs.to(DEVICE), labels.to(DEVICE)\n",
    "        optimizer.zero_grad()\n",
    "        outputs = model(imgs)\n",
    "        loss = criterion(outputs, labels)\n",
    "        loss.backward()\n",
    "        optimizer.step()\n",
    "        \n",
    "        running_loss += loss.item()\n",
    "        _, predicted = torch.max(outputs, 1)\n",
    "        total += labels.size(0)\n",
    "        correct += (predicted == labels).sum().item()\n",
    "    \n",
    "    train_loss = running_loss / len(train_loader)\n",
    "    train_acc = correct / total\n",
    "    train_losses.append(train_loss)\n",
    "    train_accs.append(train_acc)\n",
    "    \n",
    "    model.eval()\n",
    "    running_loss = 0.0\n",
    "    correct, total = 0, 0\n",
    "    with torch.no_grad():\n",
    "        for imgs, labels in val_loader:\n",
    "            imgs, labels = imgs.to(DEVICE), labels.to(DEVICE)\n",
    "            outputs = model(imgs)\n",
    "            loss = criterion(outputs, labels)\n",
    "            running_loss += loss.item()\n",
    "            _, predicted = torch.max(outputs, 1)\n",
    "            total += labels.size(0)\n",
    "            correct += (predicted == labels).sum().item()\n",
    "    \n",
    "    val_loss = running_loss / len(val_loader)\n",
    "    val_acc = correct / total\n",
    "    val_losses.append(val_loss)\n",
    "    val_accs.append(val_acc)\n",
    "    \n",
    "    print(f\"Epoch [{epoch+1}/{EPOCHS}] - \"\n",
    "          f\"Train Loss: {train_loss:.4f}, Train Acc: {train_acc:.4f}, \"\n",
    "          f\"Val Loss: {val_loss:.4f}, Val Acc: {val_acc:.4f}\")\n",
    "    \n",
    "    # Save model checkpoint\n",
    "    save_checkpoint(epoch, model, optimizer, f'{CHECKPOINT_DIR}/vit_epoch_{epoch+1}.pth')\n",
    "    \n",
    "    # Adjust learning rate\n",
    "    scheduler.step()\n",
    "\n",
    "# Plotting the training loss and accuracy\n",
    "plt.figure(figsize=(12, 5))\n",
    "plt.subplot(1, 2, 1)\n",
    "plt.plot(train_losses, label='Train Loss')\n",
    "plt.plot(val_losses, label='Validation Loss')\n",
    "plt.xlabel('Epoch')\n",
    "plt.ylabel('Loss')\n",
    "plt.legend()\n",
    "\n",
    "plt.subplot(1, 2, 2)\n",
    "plt.plot(train_accs, label='Train Accuracy')\n",
    "plt.plot(val_accs, label='Validation Accuracy')\n",
    "plt.xlabel('Epoch')\n",
    "plt.ylabel('Accuracy')\n",
    "plt.legend()\n",
    "\n",
    "plt.show()\n",
    "\n",
    "# Test the model on test dataset\n",
    "model.eval()\n",
    "correct, total = 0, 0\n",
    "with torch.no_grad():\n",
    "    for imgs, labels in test_loader:\n",
    "        imgs, labels = imgs.to(DEVICE), labels.to(DEVICE)\n",
    "        outputs = model(imgs)\n",
    "        _, predicted = torch.max(outputs, 1)\n",
    "        total += labels.size(0)\n",
    "        correct += (predicted == labels).sum().item()\n",
    "\n",
    "test_acc = correct / total\n",
    "print(f\"Test Accuracy: {test_acc:.4f}\")\n"
   ]
  }
 ],
 "metadata": {
  "kernelspec": {
   "display_name": "defense_lab",
   "language": "python",
   "name": "python3"
  },
  "language_info": {
   "codemirror_mode": {
    "name": "ipython",
    "version": 3
   },
   "file_extension": ".py",
   "mimetype": "text/x-python",
   "name": "python",
   "nbconvert_exporter": "python",
   "pygments_lexer": "ipython3",
   "version": "3.9.19"
  }
 },
 "nbformat": 4,
 "nbformat_minor": 2
}
